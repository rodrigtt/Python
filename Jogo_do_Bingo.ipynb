{
  "cells": [
    {
      "cell_type": "markdown",
      "metadata": {
        "id": "view-in-github",
        "colab_type": "text"
      },
      "source": [
        "<a href=\"https://colab.research.google.com/github/rodrigtt/Python/blob/master/Jogo_do_Bingo.ipynb\" target=\"_parent\"><img src=\"https://colab.research.google.com/assets/colab-badge.svg\" alt=\"Open In Colab\"/></a>"
      ]
    },
    {
      "cell_type": "markdown",
      "id": "651dc8ff",
      "metadata": {
        "id": "651dc8ff"
      },
      "source": [
        "# Bingo"
      ]
    },
    {
      "cell_type": "code",
      "execution_count": 103,
      "id": "9f986fb7",
      "metadata": {
        "id": "9f986fb7"
      },
      "outputs": [],
      "source": [
        "import numpy as np"
      ]
    },
    {
      "cell_type": "markdown",
      "id": "e55036a4",
      "metadata": {
        "id": "e55036a4"
      },
      "source": [
        "#### Iniciando o bingo"
      ]
    },
    {
      "cell_type": "code",
      "execution_count": 104,
      "id": "dabe59ca",
      "metadata": {
        "id": "dabe59ca"
      },
      "outputs": [],
      "source": [
        "numeros = np.arange(1, 76, 1)\n",
        "lista_inicial = list(numeros)\n",
        "lista_final = []\n",
        "ult_num = np.nan\n",
        "#print(lista_inicial)"
      ]
    },
    {
      "cell_type": "markdown",
      "id": "8734de47",
      "metadata": {
        "id": "8734de47"
      },
      "source": [
        "### Funções"
      ]
    },
    {
      "cell_type": "code",
      "execution_count": 105,
      "id": "5e9415b9",
      "metadata": {
        "id": "5e9415b9"
      },
      "outputs": [],
      "source": [
        "def sortear(lista):\n",
        "\n",
        "  tam = len(lista)\n",
        "    \n",
        "  if tam != 0:\n",
        "    i = np.random.choice(tam, 1)[0]\n",
        "    sorteado = lista[i]\n",
        "    return sorteado\n",
        "  else:\n",
        "    sorteado = np.nan"
      ]
    },
    {
      "cell_type": "code",
      "execution_count": 106,
      "id": "374170a1",
      "metadata": {
        "id": "374170a1"
      },
      "outputs": [],
      "source": [
        "def atualizar_lista(lista, sorteado):\n",
        "    new_list = lista.remove(sorteado)\n",
        "    return new_list"
      ]
    },
    {
      "cell_type": "code",
      "execution_count": 107,
      "id": "b403d1b8",
      "metadata": {
        "id": "b403d1b8"
      },
      "outputs": [],
      "source": [
        "def sorteados_list(lista, ult):\n",
        "    lista.append(ult)\n",
        "    \n",
        "    return lista"
      ]
    },
    {
      "cell_type": "code",
      "execution_count": 108,
      "id": "a6c30ee8",
      "metadata": {
        "id": "a6c30ee8"
      },
      "outputs": [],
      "source": [
        "def nova_pedra():\n",
        "    sort = sortear(lista_inicial)\n",
        "    new = atualizar_lista(lista_inicial, sort)\n",
        "    new2 = sorteados_list(lista_final, sort)\n",
        "    \n",
        "    if sort <= 16:\n",
        "        print(\"\\nO número sorteado é: B {}\".format(sort))\n",
        "    \n",
        "    elif 16 < sort and sort <= 30:\n",
        "        print(\"\\nO número sorteado é: I {}\".format(sort))\n",
        "        \n",
        "    elif 30 < sort and sort <= 45:\n",
        "        print(\"\\nO número sorteado é: N {}\".format(sort))\n",
        "        \n",
        "    elif 45 < sort and sort <= 60:\n",
        "        print(\"\\nO número sorteado é: G {}\".format(sort))\n",
        "        \n",
        "    elif 60 < sort and sort <= 75:\n",
        "        print(\"\\nO número sorteado é: O {}\".format(sort))\n",
        "        \n",
        "    return sort, new, new2"
      ]
    },
    {
      "cell_type": "code",
      "source": [
        "def plot_pedras():\n",
        "  lista_b = []\n",
        "  lista_i = []\n",
        "  lista_n = []\n",
        "  lista_g = []\n",
        "  lista_o = []\n",
        "  for i in lista_final:\n",
        "    if 1 <= i <= 15:\n",
        "      lista_b.append(i)\n",
        "    elif 16 <= i <= 30:\n",
        "      lista_i.append(i)\n",
        "    elif 31 <= i <= 45:\n",
        "      lista_n.append(i)\n",
        "    elif 46 <= i <= 60:\n",
        "      lista_g.append(i)\n",
        "    elif 61 <= i <= 75:\n",
        "      lista_o.append(i)\n",
        "\n",
        "  print(\"B: \", lista_b)\n",
        "  print(\"I: \", lista_i)\n",
        "  print(\"N: \", lista_n)\n",
        "  print(\"G: \", lista_g)\n",
        "  print(\"O: \", lista_o)"
      ],
      "metadata": {
        "id": "Om9fr9eiGYbE"
      },
      "id": "Om9fr9eiGYbE",
      "execution_count": 109,
      "outputs": []
    },
    {
      "cell_type": "code",
      "execution_count": 110,
      "id": "8dde268d",
      "metadata": {
        "id": "8dde268d"
      },
      "outputs": [],
      "source": [
        "def nova_rodada():\n",
        "    ult_num, lista_inicial, lista_final = nova_pedra()\n",
        "    print(\"\\n\")\n",
        "    print(\"Lista de Números Sorteados:\\n\")\n",
        "    plot_pedras()"
      ]
    },
    {
      "cell_type": "code",
      "execution_count": 111,
      "id": "67454a91",
      "metadata": {
        "id": "67454a91"
      },
      "outputs": [],
      "source": [
        "def imprime(lista):\n",
        "  return lambda i: [lista[i] for i in range(len(lista)-1, -1, -1)]"
      ]
    },
    {
      "cell_type": "code",
      "source": [
        "#imprime(lista_final)(0)\n"
      ],
      "metadata": {
        "id": "8Lp645ieOVkT"
      },
      "id": "8Lp645ieOVkT",
      "execution_count": 112,
      "outputs": []
    },
    {
      "cell_type": "markdown",
      "id": "dcf698ac",
      "metadata": {
        "id": "dcf698ac"
      },
      "source": [
        "## Jogo do BINGO"
      ]
    },
    {
      "cell_type": "code",
      "execution_count": 131,
      "id": "24e422fa",
      "metadata": {
        "id": "24e422fa",
        "outputId": "ff538b73-4a95-4a9a-abe0-87704dfed2b9",
        "colab": {
          "base_uri": "https://localhost:8080/"
        }
      },
      "outputs": [
        {
          "output_type": "stream",
          "name": "stdout",
          "text": [
            "\n",
            "O número sorteado é: I 21\n",
            "\n",
            "\n",
            "Lista de Números Sorteados:\n",
            "\n",
            "B:  [13, 15, 12]\n",
            "I:  [23, 18, 30, 17, 21]\n",
            "N:  [35, 34, 38]\n",
            "G:  [54, 48, 46, 58, 56]\n",
            "O:  [68, 70]\n"
          ]
        }
      ],
      "source": [
        "nova_rodada()"
      ]
    },
    {
      "cell_type": "code",
      "source": [
        "#plot_pedras()"
      ],
      "metadata": {
        "id": "wvKRkQMNGV10"
      },
      "id": "wvKRkQMNGV10",
      "execution_count": 114,
      "outputs": []
    },
    {
      "cell_type": "code",
      "source": [],
      "metadata": {
        "id": "qW2kMJlxJKfp"
      },
      "id": "qW2kMJlxJKfp",
      "execution_count": null,
      "outputs": []
    }
  ],
  "metadata": {
    "kernelspec": {
      "display_name": "Python 3 (ipykernel)",
      "language": "python",
      "name": "python3"
    },
    "language_info": {
      "codemirror_mode": {
        "name": "ipython",
        "version": 3
      },
      "file_extension": ".py",
      "mimetype": "text/x-python",
      "name": "python",
      "nbconvert_exporter": "python",
      "pygments_lexer": "ipython3",
      "version": "3.8.10"
    },
    "colab": {
      "provenance": [],
      "include_colab_link": true
    }
  },
  "nbformat": 4,
  "nbformat_minor": 5
}